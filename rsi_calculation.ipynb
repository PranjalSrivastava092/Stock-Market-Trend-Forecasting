{
 "cells": [
  {
   "cell_type": "code",
   "execution_count": 1,
   "metadata": {},
   "outputs": [],
   "source": [
    "%config IPCompleter.greedy=True"
   ]
  },
  {
   "cell_type": "code",
   "execution_count": 4,
   "metadata": {},
   "outputs": [],
   "source": [
    "import pandas as pd\n",
    "import os\n",
    "import sys\n",
    "import csv\n",
    "from math import log\n",
    "from math import sqrt\n",
    "import matplotlib.pyplot as plt \n",
    "from collections import defaultdict"
   ]
  },
  {
   "cell_type": "code",
   "execution_count": 6,
   "metadata": {},
   "outputs": [],
   "source": [
    "# read_file='bse_data.csv'\n",
    "# write_file='bse_data_with_rsi.csv'\n",
    "\n",
    "read_file='query_data.csv'\n",
    "write_file='query_data_with_rsi.csv'\n",
    "\n",
    "data = pd.read_csv(read_file)\n",
    "change={}\n",
    "upward_movement={}\n",
    "downward_movement={}\n",
    "average_upward_movement={}\n",
    "average_downward_movement={}\n",
    "relative_strength={}\n",
    "rsi={}\n",
    "for index in range(8):\n",
    "    change[index]=0\n",
    "    upward_movement[index]=0\n",
    "    downward_movement[index]=0\n",
    "    average_upward_movement[index]=0\n",
    "    average_downward_movement[index]=0\n",
    "    relative_strength[index]=0\n",
    "    rsi[index]=0\n",
    "\n",
    "for index in range(len(data)-1):\n",
    "    x=0\n",
    "    y=0\n",
    "    if(index==0):\n",
    "        continue\n",
    "    change[index]=data['Close'][index]-data['Close'][index-1]\n",
    "    if(change[index]>0):\n",
    "        upward_movement[index]=change[index]\n",
    "        downward_movement[index]=0\n",
    "    else:\n",
    "        upward_movement[index]=0\n",
    "        downward_movement[index]=abs(change[index])\n",
    "    if(index==5):\n",
    "        x=upward_movement[index-4]+upward_movement[index-3]+upward_movement[index-2]+upward_movement[index-1]+upward_movement[index]\n",
    "        x=x/5\n",
    "        y=downward_movement[index-4]+downward_movement[index-3]+downward_movement[index-2]+downward_movement[index-1]+downward_movement[index]\n",
    "        y=y/5\n",
    "        average_upward_movement[index]=x\n",
    "        average_downward_movement[index]=y\n",
    "        relative_strength[index]=average_upward_movement[index]/average_downward_movement[index]\n",
    "        rsi[index]=100-(100/(relative_strength[index]+1))\n",
    "        \n",
    "    if(index>=6):\n",
    "        average_upward_movement[index]=(average_upward_movement[index-1]*4+upward_movement[index])/5\n",
    "        average_downward_movement[index]=(average_downward_movement[index-1]*4+downward_movement[index])/5\n",
    "        relative_strength[index]=average_upward_movement[index]/average_downward_movement[index]\n",
    "        rsi[index]=100-100/(relative_strength[index]+1)\n",
    "\n",
    "\n",
    "list_values = [ v for v in rsi.values() ]\n",
    "data = data.drop([len(data)-1], axis=0)\n",
    "data=data.assign(RSI=list_values)\n",
    "data.to_csv(write_file, index=False)"
   ]
  },
  {
   "cell_type": "code",
   "execution_count": null,
   "metadata": {},
   "outputs": [],
   "source": []
  }
 ],
 "metadata": {
  "kernelspec": {
   "display_name": "Python 3",
   "language": "python",
   "name": "python3"
  },
  "language_info": {
   "codemirror_mode": {
    "name": "ipython",
    "version": 3
   },
   "file_extension": ".py",
   "mimetype": "text/x-python",
   "name": "python",
   "nbconvert_exporter": "python",
   "pygments_lexer": "ipython3",
   "version": "3.7.3"
  }
 },
 "nbformat": 4,
 "nbformat_minor": 2
}
